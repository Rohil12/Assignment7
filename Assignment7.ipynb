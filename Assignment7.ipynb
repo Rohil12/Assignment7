{
 "cells": [
  {
   "cell_type": "code",
   "execution_count": 8,
   "id": "db711fc7-2be4-4714-bcb2-b659b5368652",
   "metadata": {},
   "outputs": [],
   "source": [
    "#Q.1 \n",
    "# In object-oriented programming(OOP), a class is a blueprint or template that defines \n",
    "# the variables and the methods (functions) common to all objects of a certain kind.\n",
    "\n",
    "# An objectt is an instance of a class . it's a self-contained entity that consists of \n",
    "# of both data and procedures to manipulate the data.\n",
    "\n",
    "class car:\n",
    "    def __init__(self,car,year):\n",
    "        self.car=car\n",
    "        self.year=year\n",
    "        \n",
    "    def output(self):\n",
    "        return (self.car,self.year)"
   ]
  },
  {
   "cell_type": "code",
   "execution_count": 9,
   "id": "bacd3b85-5662-4225-98a8-e6a1d5daae5f",
   "metadata": {},
   "outputs": [],
   "source": [
    "mycar=car(\"toyota\",2016)"
   ]
  },
  {
   "cell_type": "code",
   "execution_count": 11,
   "id": "4964f172-54cd-43cc-9b2c-82d19f15f5bf",
   "metadata": {},
   "outputs": [
    {
     "data": {
      "text/plain": [
       "('toyota', 2016)"
      ]
     },
     "execution_count": 11,
     "metadata": {},
     "output_type": "execute_result"
    }
   ],
   "source": [
    "mycar.output()"
   ]
  },
  {
   "cell_type": "code",
   "execution_count": 12,
   "id": "a4c87bf9-f517-469c-80e0-c1373759bc91",
   "metadata": {},
   "outputs": [],
   "source": [
    "#Q.2 \n",
    "# Encapsulation\n",
    "# Inheritance\n",
    "# Polymorphism\n",
    "# Abstraction "
   ]
  },
  {
   "cell_type": "code",
   "execution_count": 4,
   "id": "bcd21568-ecf9-4175-8a0b-dc49e0000c85",
   "metadata": {},
   "outputs": [],
   "source": [
    "#Q.3 The __init__() function in python is a special method that gets automatically called when a new object of a class is instantiated.\n",
    "# This method is also known as a constructor and is used for the initialization of objeccts.\n",
    "# The task of constructors is to initialize(assign values) to the data members of the class when an  object of a class is created.\n",
    "\n",
    "class work:\n",
    "    \n",
    "    def __init__(self,job,salary):\n",
    "        self.job=job\n",
    "        self.salary=salary\n",
    "        \n",
    "    def output(self):\n",
    "        return(self.job,self.salary)"
   ]
  },
  {
   "cell_type": "code",
   "execution_count": 5,
   "id": "bf62cb0d-cf32-41a3-b936-70c1b4fca080",
   "metadata": {},
   "outputs": [],
   "source": [
    "can=work(\"developer\",40000)"
   ]
  },
  {
   "cell_type": "code",
   "execution_count": 7,
   "id": "447d05e4-fcef-493e-a426-b468cdd2215b",
   "metadata": {},
   "outputs": [
    {
     "data": {
      "text/plain": [
       "('developer', 40000)"
      ]
     },
     "execution_count": 7,
     "metadata": {},
     "output_type": "execute_result"
    }
   ],
   "source": [
    "can.output()"
   ]
  },
  {
   "cell_type": "code",
   "execution_count": 8,
   "id": "074e00cc-9a75-44e8-82ff-1ced3cb4ea85",
   "metadata": {},
   "outputs": [],
   "source": [
    "#Q.4 In Object-Oriented Programming (OOP),self is used in instance methods to refer to the instance of the class. it's a way to access the attributes and methods of the class within the class itself.\n",
    "# Accessing class attributes: self is used to access variables that belong to the instance of the class\n",
    "# Calling other methods: self is used within a class's method to call another method of the same class"
   ]
  },
  {
   "cell_type": "code",
   "execution_count": 17,
   "id": "c250d9a0-7604-4209-bd95-32446435a887",
   "metadata": {},
   "outputs": [],
   "source": [
    "#Q.5 Inheritance is a fundamental concept in object oriented programming . it allows a class to derive properties and characteristics from another class.\n",
    "# The class that is being inherited from is known as the  \"parent class\" and the class thet inherits the properties is known as the \"child class\"\n",
    "\n",
    "#Single inheritance\n",
    "class single():\n",
    "    def call(self):\n",
    "        return (\"this is example 1\")\n",
    "\n",
    "class proof1(single):\n",
    "    pass\n",
    "\n",
    "# Multi level inheritance\n",
    "class multi():\n",
    "    def call2(self):\n",
    "        return(\"this is example 2\")\n",
    "\n",
    "class multi2(multi):\n",
    "    def call3(self):\n",
    "        return(\"this is example 3\")\n",
    "    \n",
    "class proof2(multi2):\n",
    "    pass\n",
    "\n",
    "# Multiple inheritance \n",
    "class multiple():\n",
    "    def call4(self):\n",
    "        return(\"this is multilevel\")\n",
    "    \n",
    "class multiple2():\n",
    "    def call5(self):\n",
    "        return(\"this is 2 multilevel\")\n",
    "\n",
    "class multiple3(multiple,multiple2):\n",
    "    pass\n"
   ]
  },
  {
   "cell_type": "code",
   "execution_count": 19,
   "id": "8e22005c-a036-414d-8402-848266748ae5",
   "metadata": {},
   "outputs": [],
   "source": [
    "dew=multiple3()"
   ]
  },
  {
   "cell_type": "code",
   "execution_count": 16,
   "id": "1fcaf230-c326-4bda-83da-900841fec700",
   "metadata": {},
   "outputs": [
    {
     "data": {
      "text/plain": [
       "'this is example 2'"
      ]
     },
     "execution_count": 16,
     "metadata": {},
     "output_type": "execute_result"
    }
   ],
   "source": [
    "de.call2("
   ]
  },
  {
   "cell_type": "code",
   "execution_count": null,
   "id": "a5812842-9a1d-496a-af30-276172c0e482",
   "metadata": {},
   "outputs": [],
   "source": []
  }
 ],
 "metadata": {
  "kernelspec": {
   "display_name": "Python 3 (ipykernel)",
   "language": "python",
   "name": "python3"
  },
  "language_info": {
   "codemirror_mode": {
    "name": "ipython",
    "version": 3
   },
   "file_extension": ".py",
   "mimetype": "text/x-python",
   "name": "python",
   "nbconvert_exporter": "python",
   "pygments_lexer": "ipython3",
   "version": "3.10.8"
  }
 },
 "nbformat": 4,
 "nbformat_minor": 5
}
